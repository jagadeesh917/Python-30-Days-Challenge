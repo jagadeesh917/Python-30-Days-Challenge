{
 "cells": [
  {
   "cell_type": "markdown",
   "id": "f9a30808",
   "metadata": {},
   "source": [
    "# 📘 Basic Python Data Types\n"
   ]
  },
  {
   "cell_type": "markdown",
   "id": "46298287",
   "metadata": {},
   "source": [
    "### An **integer** is a whole number, positive or negative, without decimals.\n",
    "\n",
    "### **Examples:** `-10`, `0`, `25`, `999`"
   ]
  },
  {
   "cell_type": "code",
   "execution_count": 1,
   "id": "b9f973a6",
   "metadata": {},
   "outputs": [
    {
     "name": "stdout",
     "output_type": "stream",
     "text": [
      "25\n"
     ]
    }
   ],
   "source": [
    "age = 25\n",
    "print(age)"
   ]
  },
  {
   "cell_type": "code",
   "execution_count": 2,
   "id": "1f934ee8",
   "metadata": {},
   "outputs": [
    {
     "data": {
      "text/plain": [
       "int"
      ]
     },
     "execution_count": 2,
     "metadata": {},
     "output_type": "execute_result"
    }
   ],
   "source": [
    "type(age)"
   ]
  },
  {
   "cell_type": "code",
   "execution_count": 3,
   "id": "b144a908-1e96-4494-b6b2-ec07b27a4f9f",
   "metadata": {},
   "outputs": [
    {
     "name": "stdout",
     "output_type": "stream",
     "text": [
      "<class 'int'>\n"
     ]
    }
   ],
   "source": [
    "print(type(age))"
   ]
  },
  {
   "cell_type": "markdown",
   "id": "9c8ec941",
   "metadata": {},
   "source": [
    "### A **float** is a number that contains a decimal point.\n",
    "\n",
    "### **Examples:** `5.9`, `3.14`, `-0.001`"
   ]
  },
  {
   "cell_type": "code",
   "execution_count": 4,
   "id": "2ed02e56",
   "metadata": {},
   "outputs": [
    {
     "data": {
      "text/plain": [
       "5.9"
      ]
     },
     "execution_count": 4,
     "metadata": {},
     "output_type": "execute_result"
    }
   ],
   "source": [
    "height = 5.9\n",
    "height"
   ]
  },
  {
   "cell_type": "code",
   "execution_count": 5,
   "id": "ff3ab77f",
   "metadata": {},
   "outputs": [
    {
     "data": {
      "text/plain": [
       "float"
      ]
     },
     "execution_count": 5,
     "metadata": {},
     "output_type": "execute_result"
    }
   ],
   "source": [
    "type(height)"
   ]
  },
  {
   "cell_type": "markdown",
   "id": "a813af0c",
   "metadata": {},
   "source": [
    "### A **string** is a sequence of characters, enclosed in quotes.\n",
    "\n",
    "### **Examples:** `'John'`, `'Hello, World!'`, `'123'`"
   ]
  },
  {
   "cell_type": "code",
   "execution_count": 6,
   "id": "2798af03",
   "metadata": {},
   "outputs": [
    {
     "data": {
      "text/plain": [
       "'John'"
      ]
     },
     "execution_count": 6,
     "metadata": {},
     "output_type": "execute_result"
    }
   ],
   "source": [
    "name = \"John\"\n",
    "name"
   ]
  },
  {
   "cell_type": "code",
   "execution_count": 7,
   "id": "b0d847d9",
   "metadata": {},
   "outputs": [
    {
     "data": {
      "text/plain": [
       "str"
      ]
     },
     "execution_count": 7,
     "metadata": {},
     "output_type": "execute_result"
    }
   ],
   "source": [
    "type(name)"
   ]
  },
  {
   "cell_type": "markdown",
   "id": "86f038b6",
   "metadata": {},
   "source": [
    "### A **boolean** represents one of two values: `True` or `False`.\n",
    "\n",
    "### **Examples:** `True`, `False`"
   ]
  },
  {
   "cell_type": "code",
   "execution_count": 8,
   "id": "4c8fdc36",
   "metadata": {},
   "outputs": [
    {
     "data": {
      "text/plain": [
       "True"
      ]
     },
     "execution_count": 8,
     "metadata": {},
     "output_type": "execute_result"
    }
   ],
   "source": [
    "is_student = True\n",
    "is_student"
   ]
  },
  {
   "cell_type": "code",
   "execution_count": 9,
   "id": "fda0dc8f",
   "metadata": {},
   "outputs": [
    {
     "data": {
      "text/plain": [
       "bool"
      ]
     },
     "execution_count": 9,
     "metadata": {},
     "output_type": "execute_result"
    }
   ],
   "source": [
    "type(is_student)"
   ]
  }
 ],
 "metadata": {
  "kernelspec": {
   "display_name": "Python 3 (ipykernel)",
   "language": "python",
   "name": "python3"
  },
  "language_info": {
   "codemirror_mode": {
    "name": "ipython",
    "version": 3
   },
   "file_extension": ".py",
   "mimetype": "text/x-python",
   "name": "python",
   "nbconvert_exporter": "python",
   "pygments_lexer": "ipython3",
   "version": "3.12.1"
  }
 },
 "nbformat": 4,
 "nbformat_minor": 5
}
