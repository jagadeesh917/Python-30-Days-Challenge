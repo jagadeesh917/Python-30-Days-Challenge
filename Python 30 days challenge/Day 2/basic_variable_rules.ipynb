{
 "cells": [
  {
   "cell_type": "markdown",
   "id": "65e82174-bd6b-4ff1-8b54-8659d2f73f55",
   "metadata": {},
   "source": [
    "# Basic Rules for Creating Variables in Python"
   ]
  },
  {
   "cell_type": "markdown",
   "id": "849aed2e-5b9e-4c7d-bb97-5d330ef67f46",
   "metadata": {},
   "source": [
    "### 1. Variable names must start with a letter or underscore (_)"
   ]
  },
  {
   "cell_type": "code",
   "execution_count": 2,
   "id": "ca155c36-8874-4511-ad72-3288c262878e",
   "metadata": {
    "jp-MarkdownHeadingCollapsed": true
   },
   "outputs": [
    {
     "name": "stdout",
     "output_type": "stream",
     "text": [
      "name: Johnq\n",
      "_name: Python\n"
     ]
    }
   ],
   "source": [
    "name = \"Johnq\"\n",
    "_name = \"Python\"\n",
    "print(\"name:\", name)\n",
    "print(\"_name:\", _name)"
   ]
  },
  {
   "cell_type": "markdown",
   "id": "c9d62058-f8ff-4253-ba31-bd7cb98d4abc",
   "metadata": {},
   "source": [
    "### 2. Variable names can contain letters, digits, and underscores"
   ]
  },
  {
   "cell_type": "code",
   "execution_count": 3,
   "id": "e03c44fe",
   "metadata": {},
   "outputs": [
    {
     "name": "stdout",
     "output_type": "stream",
     "text": [
      "user1: Alice\n",
      "user_name: Bob\n"
     ]
    }
   ],
   "source": [
    "user1 = \"Alice\"\n",
    "user_name = \"Bob\"\n",
    "print(\"user1:\", user1)\n",
    "print(\"user_name:\", user_name)"
   ]
  },
  {
   "cell_type": "markdown",
   "id": "edb7b316-5677-4648-9e62-21dde9eb95f4",
   "metadata": {},
   "source": [
    "### 3. Variable names cannot contain spaces\n",
    "### Invalid: user name = \"Wrong\"  # SyntaxError"
   ]
  },
  {
   "cell_type": "code",
   "execution_count": 34,
   "id": "d92c12f0",
   "metadata": {},
   "outputs": [
    {
     "ename": "SyntaxError",
     "evalue": "invalid syntax (415098692.py, line 1)",
     "output_type": "error",
     "traceback": [
      "\u001b[1;36m  Cell \u001b[1;32mIn[34], line 1\u001b[1;36m\u001b[0m\n\u001b[1;33m    user name = \"Jagadeesh\"\u001b[0m\n\u001b[1;37m         ^\u001b[0m\n\u001b[1;31mSyntaxError\u001b[0m\u001b[1;31m:\u001b[0m invalid syntax\n"
     ]
    }
   ],
   "source": [
    "user name = \"Jagadeesh\"\n",
    "user name"
   ]
  },
  {
   "cell_type": "markdown",
   "id": "b9dd0535-5201-4bfc-94bb-4a3cde338c1a",
   "metadata": {},
   "source": [
    "### Long variable names can be written in camelCase, snake_case, PascalCase, kebab-case, or UPPER_SNAKE_CASE depending on the language or coding convention."
   ]
  },
  {
   "cell_type": "code",
   "execution_count": 20,
   "id": "467b2c81-1779-496a-9be4-80d43755b51e",
   "metadata": {},
   "outputs": [
    {
     "name": "stdout",
     "output_type": "stream",
     "text": [
      "Jagadeesh\n"
     ]
    }
   ],
   "source": [
    "user_name = \"Jagadeesh\" # snake_case commonly used in python and SQL\n",
    "print(user_name)"
   ]
  },
  {
   "cell_type": "markdown",
   "id": "457af21e-3794-4616-a69f-bce0cb8e0165",
   "metadata": {},
   "source": [
    "### 4. Variable names are case-sensitive"
   ]
  },
  {
   "cell_type": "code",
   "execution_count": 8,
   "id": "08b35b16",
   "metadata": {},
   "outputs": [
    {
     "name": "stdout",
     "output_type": "stream",
     "text": [
      "name: John\n",
      "Name: Alice\n"
     ]
    }
   ],
   "source": [
    "name = \"John\"\n",
    "Name = \"Alice\"\n",
    "print(\"name:\", name)\n",
    "print(\"Name:\", Name)"
   ]
  },
  {
   "cell_type": "markdown",
   "id": "5dd14567-6315-4db5-9e5e-6e3cb4d26876",
   "metadata": {},
   "source": [
    "### 5. Do not use Python keywords as variable names"
   ]
  },
  {
   "cell_type": "code",
   "execution_count": 25,
   "id": "c74e6a97",
   "metadata": {},
   "outputs": [
    {
     "name": "stdout",
     "output_type": "stream",
     "text": [
      "Python keywords: ['False', 'None', 'True', 'and', 'as', 'assert', 'async', 'await', 'break', 'class', 'continue', 'def', 'del', 'elif', 'else', 'except', 'finally', 'for', 'from', 'global', 'if', 'import', 'in', 'is', 'lambda', 'nonlocal', 'not', 'or', 'pass', 'raise', 'return', 'try', 'while', 'with', 'yield']\n"
     ]
    }
   ],
   "source": [
    "import keyword\n",
    "print(\"Python keywords:\", keyword.kwlist)"
   ]
  },
  {
   "cell_type": "markdown",
   "id": "a0874e46-877d-4587-8e2b-4ff3fd616d30",
   "metadata": {},
   "source": [
    "### 6. Use meaningful names (recommended)"
   ]
  },
  {
   "cell_type": "code",
   "execution_count": 28,
   "id": "9e484d6c",
   "metadata": {},
   "outputs": [
    {
     "name": "stdout",
     "output_type": "stream",
     "text": [
      "age: 25\n",
      "first_name: Ram\n"
     ]
    }
   ],
   "source": [
    "# a = 25\n",
    "# b = \"Ram\" these variables names are meaningless\n",
    "age = 25\n",
    "first_name = \"Ram\"\n",
    "print(\"age:\", age)\n",
    "print(\"first_name:\", first_name)"
   ]
  },
  {
   "cell_type": "markdown",
   "id": "3b89ab65-3c65-4bb6-9e85-d24b6be9dff1",
   "metadata": {},
   "source": [
    "### 7. Multiple variable assignment"
   ]
  },
  {
   "cell_type": "code",
   "execution_count": 31,
   "id": "71ba385b",
   "metadata": {},
   "outputs": [
    {
     "name": "stdout",
     "output_type": "stream",
     "text": [
      "x: 1 y: 2 z: 3\n",
      "a: 100 b: 100 c: 100\n"
     ]
    }
   ],
   "source": [
    "x, y, z = 1, 2, 3\n",
    "print(\"x:\", x, \"y:\", y, \"z:\", z)\n",
    "\n",
    "a = b = c = 100\n",
    "print(\"a:\", a, \"b:\", b, \"c:\", c)"
   ]
  }
 ],
 "metadata": {
  "kernelspec": {
   "display_name": "Python 3 (ipykernel)",
   "language": "python",
   "name": "python3"
  },
  "language_info": {
   "codemirror_mode": {
    "name": "ipython",
    "version": 3
   },
   "file_extension": ".py",
   "mimetype": "text/x-python",
   "name": "python",
   "nbconvert_exporter": "python",
   "pygments_lexer": "ipython3",
   "version": "3.12.1"
  }
 },
 "nbformat": 4,
 "nbformat_minor": 5
}
