{
 "cells": [
  {
   "cell_type": "markdown",
   "metadata": {},
   "source": [
    "# 📓 Inventory Management Using Dictionary in Python\n",
    "\n",
    "Each item is stored as a key, and its quantity (and optionally price) is stored as the value.\n"
   ]
  },
  {
   "cell_type": "code",
   "execution_count": 98,
   "metadata": {},
   "outputs": [
    {
     "name": "stdout",
     "output_type": "stream",
     "text": [
      "{'apples': 10, 'bananas': 5, 'oranges': 8}\n"
     ]
    }
   ],
   "source": [
    "inventory = {\n",
    "    \"apples\": 10,\n",
    "    \"bananas\": 5,\n",
    "    \"oranges\": 8\n",
    "}\n",
    "print(inventory)"
   ]
  },
  {
   "cell_type": "code",
   "execution_count": 99,
   "metadata": {},
   "outputs": [
    {
     "data": {
      "text/plain": [
       "{'apples': 15, 'bananas': 5, 'oranges': 8}"
      ]
     },
     "execution_count": 99,
     "metadata": {},
     "output_type": "execute_result"
    }
   ],
   "source": [
    "inventory[\"apples\"] += 5     # Add 5 apples\n",
    "inventory"
   ]
  },
  {
   "cell_type": "code",
   "execution_count": 100,
   "metadata": {},
   "outputs": [
    {
     "name": "stdout",
     "output_type": "stream",
     "text": [
      "{'apples': 15, 'bananas': 7, 'oranges': 8, 'grapes': 15}\n"
     ]
    }
   ],
   "source": [
    "inventory[\"bananas\"] += 2    # Add 2 bananas\n",
    "inventory[\"grapes\"] = 15     # Add new item 'grapes' with 15 quantity\n",
    "\n",
    "print(inventory)"
   ]
  },
  {
   "cell_type": "code",
   "execution_count": 101,
   "metadata": {},
   "outputs": [
    {
     "name": "stdout",
     "output_type": "stream",
     "text": [
      "{'apples': 15, 'bananas': 1, 'oranges': 4, 'grapes': 15}\n"
     ]
    }
   ],
   "source": [
    "inventory[\"oranges\"] -= 4    # Sold 4 oranges\n",
    "inventory[\"bananas\"] -= 6    # Sold 6 bananas (more than in stock)\n",
    "print(inventory)"
   ]
  },
  {
   "cell_type": "code",
   "execution_count": 102,
   "metadata": {},
   "outputs": [
    {
     "name": "stdout",
     "output_type": "stream",
     "text": [
      "{'apples': 15, 'bananas': 1, 'oranges': 4, 'grapes': 15, 'mango': 5}\n"
     ]
    }
   ],
   "source": [
    "inventory[\"mango\"] = 5\n",
    "print(inventory)"
   ]
  },
  {
   "cell_type": "code",
   "execution_count": null,
   "metadata": {},
   "outputs": [],
   "source": []
  },
  {
   "cell_type": "code",
   "execution_count": 103,
   "metadata": {},
   "outputs": [
    {
     "name": "stdout",
     "output_type": "stream",
     "text": [
      "Initial Inventory:\n",
      "apples: 10\n",
      "bananas: 5\n",
      "oranges: 8\n"
     ]
    }
   ],
   "source": [
    "# ✅ Initialize inventory\n",
    "inventory = {\n",
    "    \"apples\": 10,\n",
    "    \"bananas\": 5,\n",
    "    \"oranges\": 8\n",
    "}\n",
    "\n",
    "# Show initial inventory\n",
    "print(\"Initial Inventory:\")\n",
    "for item, qty in inventory.items():\n",
    "    print(f\"{item}: {qty}\")"
   ]
  },
  {
   "cell_type": "code",
   "execution_count": 104,
   "metadata": {
    "scrolled": true
   },
   "outputs": [
    {
     "name": "stdout",
     "output_type": "stream",
     "text": [
      "\n",
      "Adding Stock...\n",
      "Inventory After Adding:\n",
      "apples: 15\n",
      "bananas: 7\n",
      "oranges: 8\n",
      "grapes: 15\n"
     ]
    }
   ],
   "source": [
    "# ✅ Add items to inventory\n",
    "print(\"\\nAdding Stock...\")\n",
    "\n",
    "inventory[\"apples\"] += 5     # Add 5 apples\n",
    "inventory[\"bananas\"] += 2    # Add 2 bananas\n",
    "inventory[\"grapes\"] = 15     # Add new item 'grapes' with 15 quantity\n",
    "\n",
    "# Show updated inventory\n",
    "print(\"Inventory After Adding:\")\n",
    "for item, qty in inventory.items():\n",
    "    print(f\"{item}: {qty}\")"
   ]
  },
  {
   "cell_type": "code",
   "execution_count": 105,
   "metadata": {},
   "outputs": [
    {
     "name": "stdout",
     "output_type": "stream",
     "text": [
      "\n",
      "Removing Stock...\n"
     ]
    },
    {
     "ename": "NameError",
     "evalue": "name 'b' is not defined",
     "output_type": "error",
     "traceback": [
      "\u001b[1;31m---------------------------------------------------------------------------\u001b[0m",
      "\u001b[1;31mNameError\u001b[0m                                 Traceback (most recent call last)",
      "Cell \u001b[1;32mIn[105], line 4\u001b[0m\n\u001b[0;32m      1\u001b[0m \u001b[38;5;66;03m# ✅ Remove items from inventory\u001b[39;00m\n\u001b[0;32m      2\u001b[0m \u001b[38;5;28mprint\u001b[39m(\u001b[38;5;124m\"\u001b[39m\u001b[38;5;130;01m\\n\u001b[39;00m\u001b[38;5;124mRemoving Stock...\u001b[39m\u001b[38;5;124m\"\u001b[39m)\n\u001b[1;32m----> 4\u001b[0m b\n\u001b[0;32m      5\u001b[0m \u001b[38;5;66;03m# Prevent negative values\u001b[39;00m\n\u001b[0;32m      6\u001b[0m \u001b[38;5;28;01mfor\u001b[39;00m item \u001b[38;5;129;01min\u001b[39;00m inventory:\n",
      "\u001b[1;31mNameError\u001b[0m: name 'b' is not defined"
     ]
    }
   ],
   "source": [
    "# ✅ Remove items from inventory\n",
    "print(\"\\nRemoving Stock...\")\n",
    "\n",
    "b\n",
    "# Prevent negative values\n",
    "for item in inventory:\n",
    "    if inventory[item] < 0:\n",
    "        inventory[item] = 0\n",
    "\n",
    "# Show updated inventory\n",
    "print(\"Inventory After Removing:\")\n",
    "for item, qty in inventory.items():\n",
    "    print(f\"{item}: {qty}\")"
   ]
  },
  {
   "cell_type": "code",
   "execution_count": null,
   "metadata": {},
   "outputs": [],
   "source": []
  },
  {
   "cell_type": "code",
   "execution_count": null,
   "metadata": {},
   "outputs": [],
   "source": [
    "# ✅ Check and add if item does not exist\n",
    "print(\"\\nChecking and Updating 'mangoes'...\")\n",
    "\n",
    "if \"mangoes\" in inventory:\n",
    "    inventory[\"mangoes\"] += 5\n",
    "else:\n",
    "    inventory[\"mangoes\"] = 5\n",
    "\n",
    "# Show final inventory\n",
    "print(\"Final Inventory:\")\n",
    "for item, qty in inventory.items():\n",
    "    print(f\"{item}: {qty}\")"
   ]
  }
 ],
 "metadata": {
  "kernelspec": {
   "display_name": "Python 3 (ipykernel)",
   "language": "python",
   "name": "python3"
  },
  "language_info": {
   "codemirror_mode": {
    "name": "ipython",
    "version": 3
   },
   "file_extension": ".py",
   "mimetype": "text/x-python",
   "name": "python",
   "nbconvert_exporter": "python",
   "pygments_lexer": "ipython3",
   "version": "3.12.7"
  }
 },
 "nbformat": 4,
 "nbformat_minor": 4
}
