{
 "cells": [
  {
   "cell_type": "markdown",
   "id": "efe1ff86",
   "metadata": {},
   "source": [
    "# 📝 Python Lists, Tuples, Dictionaries and sets"
   ]
  },
  {
   "cell_type": "markdown",
   "id": "0123b5aa-d514-4f33-beef-969ddcfb1b6c",
   "metadata": {},
   "source": [
    "### 🔹 What is a List in Python?\n",
    "\n",
    "A **list** in Python is a collection of items that is:\n",
    "\n",
    "- ✅ **Ordered**  \n",
    "- ✅ **Mutable**  \n",
    "- ✅ Can contain **different types of data**"
   ]
  },
  {
   "cell_type": "markdown",
   "id": "09aa49a1-aedb-4754-9a17-4cbd6a94854a",
   "metadata": {},
   "source": [
    "\n",
    "### 🔸 Ordered:  \n",
    "When we say a list is **ordered**, it means the items are stored in a specific sequence, and **each item has a fixed position (called an index)**.  \n",
    "- The **first item** is at index `0`  \n",
    "- The **second item** is at index `1`, and so on...\n",
    "\n",
    "📌 Example:\n",
    "```python\n",
    "my_list = ['apple', 'banana', 'cherry']\n",
    "# Indexes:     0         1         2\n",
    "\n",
    "print(my_list[0])  # Output: apple"
   ]
  },
  {
   "cell_type": "markdown",
   "id": "ddf477fe-479f-4b95-817f-142dc12220fd",
   "metadata": {},
   "source": [
    "### 🔸 Mutable:\n",
    "**Mutable** means the list can be **changed after it is created**.  \n",
    "You can:\n",
    "- 🔁 **Replace** an item\n",
    "- ➕ **Add** new items\n",
    "- ➖ **Remove** items"
   ]
  },
  {
   "cell_type": "markdown",
   "id": "adf7cfad",
   "metadata": {},
   "source": [
    "### ✅ List Slicing\n",
    "You can extract parts of a list using slicing."
   ]
  },
  {
   "cell_type": "code",
   "execution_count": 186,
   "id": "917b54da-8693-472e-881b-f509c33c76e2",
   "metadata": {},
   "outputs": [
    {
     "name": "stdout",
     "output_type": "stream",
     "text": [
      "['apple', 'banana', 'cherry']\n"
     ]
    }
   ],
   "source": [
    "fruits = ['apple', 'banana', 'cherry']\n",
    "print(fruits)"
   ]
  },
  {
   "cell_type": "code",
   "execution_count": 187,
   "id": "7778b2c9",
   "metadata": {},
   "outputs": [
    {
     "name": "stdout",
     "output_type": "stream",
     "text": [
      "['apple', 'banana']\n"
     ]
    }
   ],
   "source": [
    "print(fruits[0:2])  # First two elements\n"
   ]
  },
  {
   "cell_type": "code",
   "execution_count": 188,
   "id": "4fa9139b-faec-43c9-b7aa-be813db8f49b",
   "metadata": {},
   "outputs": [
    {
     "name": "stdout",
     "output_type": "stream",
     "text": [
      "cherry\n"
     ]
    }
   ],
   "source": [
    "print(fruits[-1])   # Last element"
   ]
  },
  {
   "cell_type": "code",
   "execution_count": 189,
   "id": "218933af-eec7-420f-a91d-6460dac79602",
   "metadata": {
    "scrolled": true
   },
   "outputs": [
    {
     "data": {
      "text/plain": [
       "[1, 2, 3, 4, 5, 6, 7, 8, 9, 10, 11, 12]"
      ]
     },
     "execution_count": 189,
     "metadata": {},
     "output_type": "execute_result"
    }
   ],
   "source": [
    "numbers = [1,2,3,4,5,6,7,8,9,10,11,12]\n",
    "numbers"
   ]
  },
  {
   "cell_type": "code",
   "execution_count": 190,
   "id": "d66b6897-de8d-47b0-950d-3fcb3dae3c14",
   "metadata": {},
   "outputs": [
    {
     "data": {
      "text/plain": [
       "[2, 4, 6, 8, 10]"
      ]
     },
     "execution_count": 190,
     "metadata": {},
     "output_type": "execute_result"
    }
   ],
   "source": [
    "numbers[1:10:2]"
   ]
  },
  {
   "cell_type": "markdown",
   "id": "5e60dcc9",
   "metadata": {},
   "source": [
    "### ✅ List Methods\n",
    "Some commonly used list methods:"
   ]
  },
  {
   "cell_type": "code",
   "execution_count": 192,
   "id": "654c7fd8-4763-4c5e-8176-a6cc038367b9",
   "metadata": {},
   "outputs": [
    {
     "name": "stdout",
     "output_type": "stream",
     "text": [
      "['apple', 'banana', 'cherry']\n"
     ]
    }
   ],
   "source": [
    "fruits = ['apple', 'banana', 'cherry']\n",
    "print(fruits)"
   ]
  },
  {
   "cell_type": "code",
   "execution_count": 193,
   "id": "9e0d44b2",
   "metadata": {},
   "outputs": [
    {
     "name": "stdout",
     "output_type": "stream",
     "text": [
      "['apple', 'banana', 'cherry', 'orange']\n"
     ]
    }
   ],
   "source": [
    "fruits.append('orange')\n",
    "print(fruits)"
   ]
  },
  {
   "cell_type": "code",
   "execution_count": 194,
   "id": "f2266ab9",
   "metadata": {},
   "outputs": [
    {
     "name": "stdout",
     "output_type": "stream",
     "text": [
      "['apple', 'cherry', 'orange']\n"
     ]
    }
   ],
   "source": [
    "fruits.remove('banana')\n",
    "print(fruits)"
   ]
  },
  {
   "cell_type": "code",
   "execution_count": 195,
   "id": "51a3cb84",
   "metadata": {},
   "outputs": [
    {
     "name": "stdout",
     "output_type": "stream",
     "text": [
      "orange\n",
      "['apple', 'cherry']\n"
     ]
    }
   ],
   "source": [
    "last_item = fruits.pop()\n",
    "print(last_item)\n",
    "print(fruits)"
   ]
  },
  {
   "cell_type": "markdown",
   "id": "e2583abb-a802-40a3-a31f-9a033498b4f7",
   "metadata": {},
   "source": [
    "A Python list is like a **flexible container** where:\n",
    "- The **order matters**\n",
    "- You can **change it anytime**"
   ]
  },
  {
   "cell_type": "markdown",
   "id": "223d842e-e824-4447-8bd1-903e48355c23",
   "metadata": {},
   "source": [
    "## 🔸 Tuples in Python\n",
    "\n",
    "A **tuple** is similar to a list — it can store multiple items in a specific order — but **it is immutable**, meaning you **cannot change its contents** after creation.\n",
    "\n",
    "### ✅ Key Features:\n",
    "- Ordered  \n",
    "- **Immutable** (cannot add, remove, or change items)\n",
    "- Can contain mixed data types  "
   ]
  },
  {
   "cell_type": "code",
   "execution_count": 198,
   "id": "1f86110d-63a6-4890-ba20-d73adb10c136",
   "metadata": {},
   "outputs": [
    {
     "name": "stdout",
     "output_type": "stream",
     "text": [
      "('apple', 'banana', 'cherry')\n"
     ]
    }
   ],
   "source": [
    "my_tuple = ('apple', 'banana', 'cherry')\n",
    "print(my_tuple)"
   ]
  },
  {
   "cell_type": "code",
   "execution_count": 199,
   "id": "175da6e2-6d06-4b7c-b3c0-e6c7bdbc177a",
   "metadata": {},
   "outputs": [
    {
     "name": "stdout",
     "output_type": "stream",
     "text": [
      "apple\n"
     ]
    }
   ],
   "source": [
    "print(my_tuple[0])  # Output: apple"
   ]
  },
  {
   "cell_type": "code",
   "execution_count": 200,
   "id": "98e9c8c2-5f4a-4144-902e-15103af018ed",
   "metadata": {
    "scrolled": true
   },
   "outputs": [
    {
     "ename": "NameError",
     "evalue": "name 'python' is not defined",
     "output_type": "error",
     "traceback": [
      "\u001b[1;31m---------------------------------------------------------------------------\u001b[0m",
      "\u001b[1;31mNameError\u001b[0m                                 Traceback (most recent call last)",
      "Cell \u001b[1;32mIn[200], line 1\u001b[0m\n\u001b[1;32m----> 1\u001b[0m python\n\u001b[0;32m      2\u001b[0m my_tuple[\u001b[38;5;241m1\u001b[39m] \u001b[38;5;241m=\u001b[39m \u001b[38;5;124m'\u001b[39m\u001b[38;5;124mblueberry\u001b[39m\u001b[38;5;124m'\u001b[39m\n",
      "\u001b[1;31mNameError\u001b[0m: name 'python' is not defined"
     ]
    }
   ],
   "source": [
    "python\n",
    "my_tuple[1] = 'blueberry'  # ❌ Error: Tuples are immutable"
   ]
  },
  {
   "cell_type": "markdown",
   "id": "aa575180-833d-40b7-bb3f-d656266ee1e1",
   "metadata": {},
   "source": [
    "### When to use:\n",
    "Use a tuple when you want to store a fixed collection of items that **should not change** — like days of the week."
   ]
  },
  {
   "cell_type": "markdown",
   "id": "f7088197-1cc8-4504-b66e-660fa7436ff1",
   "metadata": {},
   "source": [
    "## 🔸 Dictionaries in Python\n",
    "\n",
    "A **dictionary** stores data in **key-value pairs**, like a real-life dictionary where a word (key) maps to its meaning (value).\n",
    "\n",
    "### ✅ Key Features:\n",
    "- **Unordered** (before Python 3.7), **ordered** from Python 3.7+\n",
    "- **Mutable** — you can add, update, or delete key-value pairs\n",
    "- Each **key must be unique**"
   ]
  },
  {
   "cell_type": "code",
   "execution_count": null,
   "id": "49edc830",
   "metadata": {},
   "outputs": [],
   "source": [
    "my_dict= {'name': 'Alice', 'age': 25, 'city': 'New York'}\n",
    "print(my_dict)"
   ]
  },
  {
   "cell_type": "code",
   "execution_count": null,
   "id": "ec61ae7f-5f79-4ee9-8928-62192f7e0f9a",
   "metadata": {},
   "outputs": [],
   "source": [
    "# Add\n",
    "my_dict[\"gender\"] = \"Male\"\n",
    "my_dict"
   ]
  },
  {
   "cell_type": "code",
   "execution_count": null,
   "id": "3b1cc8a0-52f2-4a23-8949-27d40f30aede",
   "metadata": {},
   "outputs": [],
   "source": [
    "# Remove specific key\n",
    "my_dict.pop(\"age\")\n",
    "my_dict"
   ]
  },
  {
   "cell_type": "code",
   "execution_count": null,
   "id": "df7f058c-97b5-4c35-9e56-87f1a250112c",
   "metadata": {},
   "outputs": [],
   "source": [
    "# Delete last item\n",
    "my_dict.popitem()\n",
    "my_dict"
   ]
  },
  {
   "cell_type": "code",
   "execution_count": null,
   "id": "32090b22",
   "metadata": {},
   "outputs": [],
   "source": [
    "my_dict['age'] = 26\n",
    "print(my_dict)"
   ]
  },
  {
   "cell_type": "code",
   "execution_count": null,
   "id": "6cb65df9",
   "metadata": {},
   "outputs": [],
   "source": [
    " #Adding New Key-Value Pairs\n",
    "my_dict['email'] = 'alice@example.com'\n",
    "print(my_dict)"
   ]
  },
  {
   "cell_type": "markdown",
   "id": "b5aa67b3-a590-4e31-a4f2-22f0380e2472",
   "metadata": {},
   "source": [
    "### 🔍 Real-world analogy:\n",
    "Think of a dictionary as a **contact list** where names are keys and phone numbers are values."
   ]
  },
  {
   "cell_type": "markdown",
   "id": "6e8c506a-7a71-4ddc-b6f4-e7d32bf99438",
   "metadata": {},
   "source": [
    "## 🔸 Sets in Python\n",
    "\n",
    "A **set** is a collection of **unique, unordered** items. It is used when you want to **remove duplicates** or perform **set operations** like union, intersection, etc.\n",
    "\n",
    "### ✅ Key Features:\n",
    "- **Unordered**\n",
    "- **Mutable** (you can add or remove items)\n",
    "- **No duplicates allowed**"
   ]
  },
  {
   "cell_type": "code",
   "execution_count": null,
   "id": "b1055300-3b06-44ed-8aea-b6bf0bd0c1ef",
   "metadata": {},
   "outputs": [],
   "source": [
    "my_set = {'apple', 'banana', 'cherry', 'apple'}\n",
    "print(my_set)  # Output: {'apple', 'banana', 'cherry'} — duplicates removed"
   ]
  },
  {
   "cell_type": "code",
   "execution_count": null,
   "id": "c1df7a48-9eef-4ba9-b814-daaee722cc4a",
   "metadata": {},
   "outputs": [],
   "source": [
    "my_set.add('date')\n",
    "my_set"
   ]
  },
  {
   "cell_type": "code",
   "execution_count": null,
   "id": "e4d43690-65f3-44e2-84af-8bcb0b8d0a7b",
   "metadata": {},
   "outputs": [],
   "source": [
    "my_set.remove('banana')\n",
    "my_set"
   ]
  },
  {
   "cell_type": "code",
   "execution_count": null,
   "id": "f54d0be6-7fc9-4b89-af7c-2ad6ce4e0cfd",
   "metadata": {},
   "outputs": [],
   "source": [
    "# Set operations:\n",
    "a = {1, 2, 3}\n",
    "b = {3, 4, 5}\n",
    "a\n",
    "b"
   ]
  },
  {
   "cell_type": "code",
   "execution_count": null,
   "id": "5de6f33b-0f11-4194-87ca-2a4148e889be",
   "metadata": {},
   "outputs": [],
   "source": [
    "a"
   ]
  },
  {
   "cell_type": "code",
   "execution_count": null,
   "id": "d1ab3916-5f75-47ee-8256-5caf7dc5300c",
   "metadata": {},
   "outputs": [],
   "source": [
    "a.union(b)     "
   ]
  },
  {
   "cell_type": "code",
   "execution_count": null,
   "id": "f3aa375c-fdf0-43d7-898d-16deddaa1726",
   "metadata": {},
   "outputs": [],
   "source": [
    "a.intersection(b)"
   ]
  }
 ],
 "metadata": {
  "kernelspec": {
   "display_name": "Python 3 (ipykernel)",
   "language": "python",
   "name": "python3"
  },
  "language_info": {
   "codemirror_mode": {
    "name": "ipython",
    "version": 3
   },
   "file_extension": ".py",
   "mimetype": "text/x-python",
   "name": "python",
   "nbconvert_exporter": "python",
   "pygments_lexer": "ipython3",
   "version": "3.12.7"
  }
 },
 "nbformat": 4,
 "nbformat_minor": 5
}
